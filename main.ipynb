{
 "cells": [
  {
   "cell_type": "code",
   "execution_count": 2,
   "metadata": {},
   "outputs": [],
   "source": [
    "# pip install openai"
   ]
  },
  {
   "cell_type": "code",
   "execution_count": 36,
   "metadata": {},
   "outputs": [
    {
     "name": "stdout",
     "output_type": "stream",
     "text": [
      "Version: 1.63.2\n"
     ]
    }
   ],
   "source": [
    "!pip3 show openai | grep Version"
   ]
  },
  {
   "cell_type": "markdown",
   "metadata": {},
   "source": [
    "- JSON예쁘게 출력ㅋ"
   ]
  },
  {
   "cell_type": "code",
   "execution_count": 37,
   "metadata": {},
   "outputs": [],
   "source": [
    "import json\n",
    "def show_json(obj):\n",
    "    display(json.loads(obj.model_dump_json()))"
   ]
  },
  {
   "cell_type": "code",
   "execution_count": 38,
   "metadata": {},
   "outputs": [],
   "source": [
    "import os\n",
    "from openai import OpenAI\n",
    "from dotenv import load_dotenv\n",
    "import time"
   ]
  },
  {
   "cell_type": "markdown",
   "metadata": {},
   "source": [
    "- API키 등록"
   ]
  },
  {
   "cell_type": "code",
   "execution_count": 51,
   "metadata": {},
   "outputs": [],
   "source": [
    "api_key = os.getenv(\"OPENAI_API_KEY\")\n",
    "assistent_id = os.getenv(\"ASSISTANT_ID\")\n",
    "client = OpenAI(api_key=api_key)"
   ]
  },
  {
   "cell_type": "markdown",
   "metadata": {},
   "source": [
    "# 만약 assistant 내용을 수정하고 싶다면?\n",
    "https://platform.openai.com/playground/assistants\n",
    "로 들어가 내용을 편집하면 된다."
   ]
  },
  {
   "cell_type": "markdown",
   "metadata": {},
   "source": [
    "- 새로운 Thread를 생성하는 함수"
   ]
  },
  {
   "cell_type": "code",
   "execution_count": 52,
   "metadata": {},
   "outputs": [],
   "source": [
    "def create_new_thread():\n",
    "    thread = client.beta.threads.create()\n",
    "    return thread"
   ]
  },
  {
   "cell_type": "markdown",
   "metadata": {},
   "source": [
    "- thread를 생성하고 메세지를 보내고 Assistant가 User가 질문하였다고 알림을 주는 함수"
   ]
  },
  {
   "cell_type": "code",
   "execution_count": 53,
   "metadata": {},
   "outputs": [],
   "source": [
    "def summit_message(assistent_id, thread_id, user_message):\n",
    "    #메세지 전송\n",
    "    client.beta.threads.messages.create( \n",
    "        thread_id=thread_id,\n",
    "        role=\"user\",\n",
    "        content=user_message\n",
    "    )\n",
    "\n",
    "    #실행시켜 assistant와 연결\n",
    "    run = client.beta.threads.runs.create(\n",
    "        thread_id=thread_id,\n",
    "        assistant_id=assistent_id\n",
    "    )\n",
    "\n",
    "    return run"
   ]
  },
  {
   "cell_type": "markdown",
   "metadata": {},
   "source": [
    "- return 받은 run status는 대기상태. 답변의 상태를 지속적 확인하는 코드\n",
    "    - run의 상태값\n",
    "        - queued : 아직 대기열\n",
    "        - in_progress : 처리중\n",
    "        - requires_action : 사용자 입력 대기\n",
    "        - cancelling : 작업 취소중\n",
    "        - cancelled : 작업 취소 완료\n",
    "        - failed : 실패(오류)\n",
    "        - completed : 작업 완료\n",
    "        - expired : 작업 만료\n"
   ]
  },
  {
   "cell_type": "code",
   "execution_count": 54,
   "metadata": {},
   "outputs": [],
   "source": [
    "# run status가 queued or in_progress 상태가 아닐때 까지 지정된 시간간격으로 확인하고 완료되면 값을 반환해주는 함수\n",
    "def wait_on_run(run, thread):\n",
    "    while run.status==\"queued\" or run.status==\"in_progress\":\n",
    "        run=client.beta.threads.runs.retrieve(\n",
    "            thread_id=thread.id,\n",
    "            run_id=run.id,\n",
    "        )\n",
    "        time.sleep(0.5)\n",
    "    return run"
   ]
  },
  {
   "cell_type": "code",
   "execution_count": 55,
   "metadata": {},
   "outputs": [],
   "source": [
    "# 작업 완료시 Thread값 가져오는 함수\n",
    "def get_response(thread_id):\n",
    "    return client.beta.threads.messages.list(thread_id=thread_id, order=\"asc\") # 최신질문, 답변이 맨 위로 올라오게 asc 설정"
   ]
  },
  {
   "cell_type": "markdown",
   "metadata": {},
   "source": [
    "- JSON에서 필요한 내용만 추출하기\n",
    "- 질문 + 답변\n",
    "    - res.role.upper = User, Assistant 구분.\n",
    "    - res.content[0].text.value = 질문, 답변."
   ]
  },
  {
   "cell_type": "code",
   "execution_count": 56,
   "metadata": {},
   "outputs": [],
   "source": [
    "def print_message(response):\n",
    "    for res in response:\n",
    "        print(f\"[res.role.upper()]\\n{res.content[0].text.value}\\n\")"
   ]
  },
  {
   "cell_type": "code",
   "execution_count": 64,
   "metadata": {},
   "outputs": [],
   "source": [
    "# OpenAI의 JSON 값 전체 내용 확인할 때 사용\n",
    "def show_json(obj):\n",
    "    print(show_json(json.loads(obj.model_dump_json())))"
   ]
  },
  {
   "cell_type": "markdown",
   "metadata": {},
   "source": [
    "### Main 함수"
   ]
  },
  {
   "cell_type": "code",
   "execution_count": 68,
   "metadata": {},
   "outputs": [],
   "source": [
    "def main():\n",
    "    #Threads id 생성\n",
    "    THREAD_ID = create_new_thread().id\n",
    "    \n",
    "    while True:\n",
    "        #assistant에게 전달할 질문내용\n",
    "        question = input(\"Q: \")\n",
    "\n",
    "        #종료 키워드\n",
    "        if question.lower() in [\"exit\", \"종료\", \"quit\"]:\n",
    "            print(\"종료합니다.\")\n",
    "            break\n",
    "\n",
    "        #Thread에 메세지를 전송하고 Run실행\n",
    "        run = summit_message(assistent_id, THREAD_ID, question)\n",
    "\n",
    "        #Run상태 확인\n",
    "        run1 = wait_on_run(run, THREAD_ID)\n",
    "\n",
    "        #Run 확인 후 데이터 출력\n",
    "        print_message(get_response(THREAD_ID).data[-2:])\n",
    "\n",
    "    "
   ]
  },
  {
   "cell_type": "code",
   "execution_count": 66,
   "metadata": {},
   "outputs": [
    {
     "name": "stdout",
     "output_type": "stream",
     "text": [
      "[res.role.upper()]\n",
      "너에대해 소개해줘\n",
      "\n",
      "[res.role.upper()]\n",
      "저는 iOS 프로그래머로서 SwiftUI와 UIKit을 사용하여 앱 개발을 전문으로 하고 있습니다. 깔끔한 코드 작성에 중점을 두며, 효율적이고 유지보수가 용이한 코드를 작성하는 데 노력하고 있습니다. 여러 프로젝트를 통해 다양한 기술을 쌓아왔고, 최신 트렌드에 맞춘 개발 방식에 익숙합니다. 도움이 필요하시면 언제든지 질문해 주세요!\n",
      "\n",
      "[res.role.upper()]\n",
      "너에대해 소개해줘\n",
      "\n",
      "[res.role.upper()]\n",
      "저는 iOS 프로그래머로서 SwiftUI와 UIKit을 사용하여 앱 개발을 전문으로 하고 있습니다. 깔끔한 코드 작성에 중점을 두며, 효율적이고 유지보수가 용이한 코드를 작성하는 데 노력하고 있습니다. 여러 프로젝트를 통해 다양한 기술을 쌓아왔고, 최신 트렌드에 맞춘 개발 방식에 익숙합니다. 도움이 필요하시면 언제든지 질문해 주세요!\n",
      "\n",
      "[res.role.upper()]\n",
      "이전에 내가 질문했던 내역이있어?\n",
      "\n",
      "[res.role.upper()]\n",
      "이 대화의 이전 질문이나 내역은 저장되어 있지 않습니다. 현재 대화에서 주어진 정보만으로 도와드릴 수 있습니다. 궁금한 점이 있으면 언제든지 말씀해 주세요!\n",
      "\n",
      "[res.role.upper()]\n",
      "너에대해 소개해줘\n",
      "\n",
      "[res.role.upper()]\n",
      "저는 iOS 프로그래머로서 SwiftUI와 UIKit을 사용하여 앱 개발을 전문으로 하고 있습니다. 깔끔한 코드 작성에 중점을 두며, 효율적이고 유지보수가 용이한 코드를 작성하는 데 노력하고 있습니다. 여러 프로젝트를 통해 다양한 기술을 쌓아왔고, 최신 트렌드에 맞춘 개발 방식에 익숙합니다. 도움이 필요하시면 언제든지 질문해 주세요!\n",
      "\n",
      "[res.role.upper()]\n",
      "이전에 내가 질문했던 내역이있어?\n",
      "\n",
      "[res.role.upper()]\n",
      "이 대화의 이전 질문이나 내역은 저장되어 있지 않습니다. 현재 대화에서 주어진 정보만으로 도와드릴 수 있습니다. 궁금한 점이 있으면 언제든지 말씀해 주세요!\n",
      "\n",
      "[res.role.upper()]\n",
      "현재 대화가 끝나면 . 그내용을 저장시키고 싶은데 어떻게 해야돼?\n",
      "\n",
      "[res.role.upper()]\n",
      "현재 대화 내용을 저장하려면, 대화 내용을 수동으로 복사하여 문서 파일이나 메모장에 붙여넣기 하시면 됩니다. 또는 대화가 끝난 후 필요하신 내용을 정리해 달라고 요청해 주시면, 제가 정리하여 제공할 수 있습니다. 도움이 필요하시면 말씀해 주세요!\n",
      "\n",
      "[res.role.upper()]\n",
      "너에대해 소개해줘\n",
      "\n",
      "[res.role.upper()]\n",
      "저는 iOS 프로그래머로서 SwiftUI와 UIKit을 사용하여 앱 개발을 전문으로 하고 있습니다. 깔끔한 코드 작성에 중점을 두며, 효율적이고 유지보수가 용이한 코드를 작성하는 데 노력하고 있습니다. 여러 프로젝트를 통해 다양한 기술을 쌓아왔고, 최신 트렌드에 맞춘 개발 방식에 익숙합니다. 도움이 필요하시면 언제든지 질문해 주세요!\n",
      "\n",
      "[res.role.upper()]\n",
      "이전에 내가 질문했던 내역이있어?\n",
      "\n",
      "[res.role.upper()]\n",
      "이 대화의 이전 질문이나 내역은 저장되어 있지 않습니다. 현재 대화에서 주어진 정보만으로 도와드릴 수 있습니다. 궁금한 점이 있으면 언제든지 말씀해 주세요!\n",
      "\n",
      "[res.role.upper()]\n",
      "현재 대화가 끝나면 . 그내용을 저장시키고 싶은데 어떻게 해야돼?\n",
      "\n",
      "[res.role.upper()]\n",
      "현재 대화 내용을 저장하려면, 대화 내용을 수동으로 복사하여 문서 파일이나 메모장에 붙여넣기 하시면 됩니다. 또는 대화가 끝난 후 필요하신 내용을 정리해 달라고 요청해 주시면, 제가 정리하여 제공할 수 있습니다. 도움이 필요하시면 말씀해 주세요!\n",
      "\n",
      "[res.role.upper()]\n",
      "음.. 나는 내가 이전에 질문한 내역을 한 스레드 내에 저장해서 매번 사용하고 싶은데, 방법이 있을까?\n",
      "\n",
      "[res.role.upper()]\n",
      "현재 대화 스레드 내에서 이전 질문과 답변을 저장하는 기능은 제공되지 않습니다. 그러나 앞으로의 대화에서 같은 주제나 질문에 대한 정보를 자주 사용하고 싶다면, 다음과 같은 방법을 고려할 수 있습니다:\n",
      "\n",
      "1. **문서 작성:** 중요한 질문과 답변을 정리하여 문서로 저장해 두세요. 필요할 때마다 해당 문서를 참조할 수 있습니다.\n",
      "2. **메모장 사용:** 스마트폰이나 컴퓨터의 메모장 앱에 질문과 답변을 정리하면 언제든지 쉽게 찾아볼 수 있습니다.\n",
      "3. **스크린샷:** 중요한 내용을 스크린샷으로 저장하여 이미지 파일로 보관할 수도 있습니다.\n",
      "\n",
      "기타 궁금한 점이나 도움이 필요하시면 언제든지 말씀해 주세요!\n",
      "\n",
      "종료합니다.\n"
     ]
    }
   ],
   "source": [
    "main()"
   ]
  },
  {
   "cell_type": "code",
   "execution_count": 2,
   "metadata": {},
   "outputs": [],
   "source": [
    "def chat():\n",
    "    print(\"무엇을 도와드릴까요?\")\n",
    "    while True:\n",
    "        \n",
    "        question = input(\"Q: \")\n",
    "\n",
    "        if question.lower() in [\"exit\", \"quit\", \"종료\"]:\n",
    "            print(\"ChatGPT는 종료되었습니다.\")\n",
    "            break\n",
    "\n",
    "        completion = client.chat.completions.create(\n",
    "            model = \"gpt-3.5-turbo\",\n",
    "            messages=[{\"role\" : \"developer\",\n",
    "                        \"content\" : \"\"\"\n",
    "                        You are a helpful assistant. \n",
    "                        You are a senior programmer. \n",
    "                        You are good at clean coding. \n",
    "                        You are Korean, Only Can anwser with Korean.\n",
    "                        너는 한국인이야. 모든 답변은 반드시 한국어로만 대답해줘.\n",
    "                        \"\"\"}]\n",
    "        )\n",
    "\n",
    "        answer = completion.choices[0].message.content\n",
    "        print(f\"A: {answer}\")"
   ]
  },
  {
   "cell_type": "code",
   "execution_count": null,
   "metadata": {},
   "outputs": [
    {
     "name": "stdout",
     "output_type": "stream",
     "text": [
      "무엇을 도와드릴까요?\n",
      "A: 위 코드는 OpenAI의 API를 사용하여 사용자가 입력한 질문에 대해 답변하는 간단한 챗봇을 구현하려는 시도입니다. 하지만 몇 가지 문제가 있습니다. 이를 수정하고 설명을 추가하겠습니다.\n",
      "\n",
      "1. **import 오류**: `import os`와 `import OpenAI`는 분리된 import 문으로 작성해야 합니다.\n",
      "2. **API 키 로드**: 환경 변수를 사용하여 API 키를 로드하고 있어 잘 설정해주어야 합니다.\n",
      "3. **모델 이름**: `gpt-4o-mini`라는 모델은 올바르지 않을 수 있습니다. 사용 가능한 모델 이름을 확인해 주세요.\n",
      "4. **client 객체**: `OpenAI` 클라이언트 초기화가 코드에 없는 것 같습니다. `openai` 모듈을 사용하는 것이 일반적입니다.\n",
      "\n",
      "아래는 수정된 버전입니다:\n",
      "\n",
      "```python\n",
      "import os\n",
      "import openai\n",
      "from dotenv import load_dotenv\n",
      "\n",
      "# 환경 변수 로드\n",
      "load_dotenv()\n",
      "\n",
      "# OpenAI API 키 가져오기\n",
      "api_key = os.getenv(\"OPENAI_API_KEY\")\n",
      "openai.api_key = api_key\n",
      "\n",
      "def chat():\n",
      "    print(\"무엇을 도와드릴까요?\")\n",
      "    while True:\n",
      "        question = input(\"Q: \")\n",
      "        if question.lower() in [\"exit\", \"quit\"]:\n",
      "            print(\"챗봇을 종료합니다.\")\n",
      "            break\n",
      "        \n",
      "        completion = openai.ChatCompletion.create(\n",
      "            model=\"gpt-3.5-turbo\",  # 적절한 모델로 변경 (예: gpt-3.5-turbo, gpt-4 등)\n",
      "            messages=[\n",
      "                {\"role\": \"user\", \"content\": question}\n",
      "            ]\n",
      "        )\n",
      "\n",
      "        answer = completion.choices[0].message['content']\n",
      "        print(f\"A: {answer}\")\n",
      "\n",
      "# 챗봇 실행\n",
      "if __name__ == \"__main__\":\n",
      "    chat()\n",
      "```\n",
      "\n",
      "### 주요 변경 사항:\n",
      "\n",
      "1. `import` 문을 올바르게 수정했습니다.\n",
      "2. 모델 이름을 `gpt-3.5-turbo`와 같은 것으로 변경했지만, 사용할 수 있는 가장 적절한 모델로 바꿔주세요.\n",
      "3. 사용자가 \"exit\" 혹은 \"quit\"라고 입력할 경우 챗봇이 종료됩니다.\n",
      "4. `openai.ChatCompletion.create()`를 사용하여 API 요청을 하고 응답을 출력하도록 수정했습니다.\n",
      "5. API 키가 제대로 설정되지 않으면 코드는 제대로 작동하지 않습니다. `.env` 파일에 `OPENAI_API_KEY`를 올바르게 설정해야 합니다.\n",
      "\n",
      "환경 설정이 완료된 후 코드 실행을 시도해 보세요!\n",
      "A: 저는 OpenAI의 GPT-3.5 모델에 기반한 AI입니다. 특정 버전 번호는 없지만, 저는 최신 정보를 반영하는 데 최선을 다하고 있습니다. 질문이 있다면 언제든지 물어보세요!\n",
      "A: \"gpt-4o-mini\"가 아닌 \"gpt-3.5\" 기반으로 작동하고 있다면, 여러 가지 이유가 있을 수 있습니다. \n",
      "\n",
      "1. **설정 오류**: 모델 설정이 올바르게 적용되지 않았을 수 있습니다. 사용하는 플랫폼이나 API에서 설정을 다시 확인해 보세요.\n",
      "   \n",
      "2. **접속 권한**: 사용자가 요청하는 모델에 대한 접근 권한이 없을 수 있습니다. 구독 또는 요금제에 따라 접근 가능한 모델이 제한될 수 있습니다.\n",
      "\n",
      "3. **모델의 가용성**: 특정 시점에 따라 \"gpt-4o-mini\"가 서버에서 사용 가능한 상태가 아닐 수 있습니다.\n",
      "\n",
      "정확한 문제를 파악하기 위해서는 사용하는 플랫폼의 기술 지원 팀에 문의하거나 문서를 참고하는 것이 좋습니다.\n",
      "A: Hello! It seems like your message might be incomplete. How can I assist you today?\n",
      "A: It seems like you're looking for information or assistance related to the term \"escape.\" Could you clarify what you mean by \"escape\"? Are you looking for tips on escaping a situation, information about escape rooms, or something else entirely? Let me know how I can help!\n",
      "A: Hello! How can I assist you today? If you have any questions or need information, feel free to ask!\n",
      "A: Hello! How can I assist you today?\n",
      "A: Hello! How can I assist you today?\n"
     ]
    }
   ],
   "source": [
    "chat()"
   ]
  },
  {
   "cell_type": "markdown",
   "metadata": {},
   "source": []
  },
  {
   "cell_type": "code",
   "execution_count": null,
   "metadata": {},
   "outputs": [],
   "source": [
    "\n",
    "\n",
    "# load_dotenv()\n",
    "\n",
    "\n",
    "# client = OpenAI()\n",
    "\n",
    "# completion = client.chat.completions.create(\n",
    "#     model=\"gpt-4o-mini\",\n",
    "#     messages=[\n",
    "#         #First \"developer\"\n",
    "#         {\n",
    "#             \"role\" : \"developer\", \n",
    "#             \"content\" : \"You are helpful senior programmer assistant. you are Korean. only can speak Korean\"\n",
    "#         },\n",
    "#         #Second \"User\"\n",
    "#         {\n",
    "#             \"role\" : \"user\",\n",
    "#             \"content\" : \"AWS 기업용 계정을 만드려면 어떻게 해야돼?\"\n",
    "#         }\n",
    "#     ],\n",
    "# )"
   ]
  },
  {
   "cell_type": "code",
   "execution_count": 12,
   "metadata": {},
   "outputs": [
    {
     "data": {
      "text/plain": [
       "ChatCompletionMessage(content='AWS 기업용 계정을 만들기 위해서는 다음 단계를 따르세요:\\n\\n1. **AWS 홈페이지 방문**: [AWS 공식 웹사이트](https://aws.amazon.com/)에 접속합니다.\\n\\n2. **계정 생성 클릭**: 페이지 오른쪽 상단에서 \"계정 만들기\" 또는 \"지금 시작하기\" 버튼을 클릭합니다.\\n\\n3. **이메일 주소 입력**: 유효한 이메일 주소를 입력하고, 계정 이름과 비밀번호를 설정합니다. 이 때, 기업에 적합한 이메일 주소를 사용하는 것이 좋습니다.\\n\\n4. **계정 유형 선택**: 사용 목적에 따라 \"개인\" 또는 \"기업\" 계정을 선택합니다. 기업 계정을 선택하면 추가적인 정보 입력이 요구될 수 있습니다.\\n\\n5. **회사 정보 입력**: 회사의 이름, 주소, 전화번호 등 필요한 정보를 입력합니다.\\n\\n6. **결제 정보 입력**: 신용카드 정보를 입력하여 결제 수단을 설정합니다. AWS는 무료 사용량이 있지만, 유료 서비스 사용 시 결제가 필요하므로 신용카드 정보가 필요합니다.\\n\\n7. **정확성 확인 및 약관 동의**: 입력한 정보를 확인하고 AWS 서비스의 이용약관 및 개인정보 보호정책에 동의합니다.\\n\\n8. **인증 절차 완료**: AWS에서 이메일 인증 또는 전화 인증 절차가 있을 수 있습니다. 안내에 따라 인증을 완료합니다.\\n\\n9. **계정 대시보드 접근**: 인증이 완료되면 AWS 관리 콘솔에 로그인하여 서비스를 사용할 수 있습니다.\\n\\n이런 과정을 통해 AWS 기업용 계정을 생성할 수 있습니다. 추가적으로, 기업의 요구에 맞게 IAM(Identity and Access Management)를 통해 사용자 및 권한 관리를 하는 것이 중요합니다.', refusal=None, role='assistant', audio=None, function_call=None, tool_calls=None)"
      ]
     },
     "execution_count": 12,
     "metadata": {},
     "output_type": "execute_result"
    }
   ],
   "source": [
    "# completion.choices[0].message"
   ]
  },
  {
   "cell_type": "code",
   "execution_count": null,
   "metadata": {},
   "outputs": [],
   "source": []
  }
 ],
 "metadata": {
  "kernelspec": {
   "display_name": "Python 3",
   "language": "python",
   "name": "python3"
  },
  "language_info": {
   "codemirror_mode": {
    "name": "ipython",
    "version": 3
   },
   "file_extension": ".py",
   "mimetype": "text/x-python",
   "name": "python",
   "nbconvert_exporter": "python",
   "pygments_lexer": "ipython3",
   "version": "3.11.5"
  }
 },
 "nbformat": 4,
 "nbformat_minor": 2
}
